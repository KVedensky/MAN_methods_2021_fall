{
 "cells": [
  {
   "cell_type": "code",
   "execution_count": 4,
   "metadata": {},
   "outputs": [
    {
     "name": "stdout",
     "output_type": "stream",
     "text": [
      "12048\n"
     ]
    }
   ],
   "source": [
    "def digit_sum(n):\n",
    "    return n // 100 + (n//10)%10 + n % 10\n",
    "\n",
    "ans = 0\n",
    "for x1 in range(100, 1000):\n",
    "    for x2 in range(100, 1000):\n",
    "        if x1 % digit_sum(x2) == 0 and x2 % digit_sum(x1) == 0:\n",
    "            ans += 1\n",
    "print(ans)"
   ]
  },
  {
   "cell_type": "code",
   "execution_count": 6,
   "metadata": {},
   "outputs": [
    {
     "name": "stdout",
     "output_type": "stream",
     "text": [
      "12048\n"
     ]
    }
   ],
   "source": [
    "def digit_sum(n):\n",
    "    return n // 100 + (n//10)%10 + n % 10\n",
    "\n",
    "ans = 0\n",
    "D_SUM = [digit_sum(n) for n in range(1000)]\n",
    "for x1 in range(100, 1000):\n",
    "    if x1 % D_SUM[x1] == 0:\n",
    "        ans += 1\n",
    "    for x2 in range(x1 + 1, 1000):\n",
    "        if x1 % D_SUM[x2] == 0 and x2 % D_SUM[x1] == 0:\n",
    "            ans += 2\n",
    "print(ans)"
   ]
  },
  {
   "cell_type": "code",
   "execution_count": 10,
   "metadata": {},
   "outputs": [
    {
     "name": "stdout",
     "output_type": "stream",
     "text": [
      "3293\n"
     ]
    }
   ],
   "source": [
    "def digit_sum(n):\n",
    "    ans = 0\n",
    "    while n > 0:\n",
    "        ans += n % 10\n",
    "        n //= 10\n",
    "    return ans\n",
    "\n",
    "def isPrime(n):\n",
    "    for i in range(2, int(n**0.5)+1):\n",
    "        if n % i == 0:\n",
    "            return False\n",
    "    return True\n",
    "\n",
    "ans = 0\n",
    "for n in range(10000, 100000):\n",
    "    if isPrime(n) and isPrime(digit_sum(n)):\n",
    "        ans += 1\n",
    "\n",
    "print(ans)"
   ]
  },
  {
   "cell_type": "code",
   "execution_count": 12,
   "metadata": {},
   "outputs": [
    {
     "name": "stdout",
     "output_type": "stream",
     "text": [
      "7138\n"
     ]
    }
   ],
   "source": [
    "ans = 0\n",
    "for x1 in range(1000, 10000):\n",
    "    if not isPrime(x1):\n",
    "        continue\n",
    "    for d in range(1, (10000 - x1)//3 + 1):\n",
    "        if isPrime(x1+d) and isPrime(x1+2*d) and isPrime(x1+3*d):\n",
    "            ans += 1\n",
    "print(ans)"
   ]
  },
  {
   "cell_type": "code",
   "execution_count": null,
   "metadata": {},
   "outputs": [],
   "source": []
  }
 ],
 "metadata": {
  "kernelspec": {
   "display_name": "PyPy3",
   "language": "python",
   "name": "pypy3"
  },
  "language_info": {
   "codemirror_mode": {
    "name": "ipython",
    "version": 3
   },
   "file_extension": ".py",
   "mimetype": "text/x-python",
   "name": "python",
   "nbconvert_exporter": "python",
   "pygments_lexer": "ipython3",
   "version": "3.7.10"
  }
 },
 "nbformat": 4,
 "nbformat_minor": 4
}
