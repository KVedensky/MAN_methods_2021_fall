{
 "cells": [
  {
   "cell_type": "code",
   "execution_count": 1,
   "metadata": {},
   "outputs": [
    {
     "name": "stdout",
     "output_type": "stream",
     "text": [
      "8\n",
      "51\n",
      "94\n",
      "137\n"
     ]
    }
   ],
   "source": [
    "for x in range(172):\n",
    "    if (196*x % 172 == 20):\n",
    "        print(x)"
   ]
  },
  {
   "cell_type": "code",
   "execution_count": 4,
   "metadata": {},
   "outputs": [
    {
     "name": "stdout",
     "output_type": "stream",
     "text": [
      "101\n",
      "111\n",
      "9\n"
     ]
    }
   ],
   "source": [
    "def isMultipleOfTwoDoubledigits(n):\n",
    "    for i in range(10, 100):\n",
    "        if (n % i == 0) and (n // i >= 10) and (n // i <= 99):\n",
    "            return True\n",
    "    return False\n",
    "\n",
    "longest = 0\n",
    "current = 0\n",
    "for n in range(100, 1000):\n",
    "    if (isMultipleOfTwoDoubledigits(n)):\n",
    "        current = 0\n",
    "    else:\n",
    "        current += 1\n",
    "    if (current == 9):\n",
    "        print(n-8)\n",
    "    longest = max(longest, current)\n",
    "print(longest)"
   ]
  },
  {
   "cell_type": "code",
   "execution_count": 11,
   "metadata": {},
   "outputs": [
    {
     "name": "stdout",
     "output_type": "stream",
     "text": [
      "1490\n",
      "101\n",
      "111\n",
      "9\n"
     ]
    }
   ],
   "source": [
    "Multiple = [False]*1000\n",
    "for i in range(10, 100):\n",
    "    j = 10\n",
    "    while (i*j < 1000):\n",
    "        Multiple[i*j] = True\n",
    "        j += 1\n",
    "\n",
    "longest = 0\n",
    "current = 0\n",
    "for n in range(100, 1000):\n",
    "    if Multiple[n]:\n",
    "        current = 0\n",
    "    else:\n",
    "        current += 1\n",
    "    if (current == 9):\n",
    "        print(n-8)\n",
    "    longest = max(longest, current)\n",
    "print(longest)"
   ]
  },
  {
   "cell_type": "code",
   "execution_count": 26,
   "metadata": {},
   "outputs": [
    {
     "name": "stdout",
     "output_type": "stream",
     "text": [
      "3157010\n"
     ]
    }
   ],
   "source": [
    "N = 5\n",
    "A = [[0]*N for i in range(N)]\n",
    "\n",
    "def isBoardOK():\n",
    "    for i in range(N):\n",
    "        for j in range(N-2):\n",
    "            if A[i][j] == 1 and A[i][j+1] == 1 and A[i][j+2] == 1:\n",
    "                return False\n",
    "            if A[j][i] == 1 and A[j+1][i] == 1 and A[j+2][i] == 1:\n",
    "                return False\n",
    "    return True\n",
    "\n",
    "def Rec(q, w):\n",
    "    if (w == N):\n",
    "        return Rec(q+1, 0)\n",
    "    if (q == N):\n",
    "        if isBoardOK():\n",
    "            return 1\n",
    "        return 0\n",
    "    ans = 0\n",
    "    for A[q][w] in range(0, 2):\n",
    "        ans += Rec(q, w+1)\n",
    "    return ans\n",
    "\n",
    "print(Rec(0, 0))"
   ]
  },
  {
   "cell_type": "code",
   "execution_count": 33,
   "metadata": {},
   "outputs": [
    {
     "name": "stdout",
     "output_type": "stream",
     "text": [
      "1440\n"
     ]
    }
   ],
   "source": [
    "N = 7\n",
    "A = [0]*N\n",
    "\n",
    "def Rec(q):\n",
    "    if q == N:\n",
    "        for i in range(N):\n",
    "            if (A[i] == 2):\n",
    "                p2 = i\n",
    "            if (A[i] == 4):\n",
    "                p4 = i\n",
    "            if (A[i] == 6):\n",
    "                p6 = i\n",
    "        if (abs(p2-p4) % 2 == 1) and (abs(p2-p6) % 2 == 0):\n",
    "            return 1\n",
    "        return 0\n",
    "    ans = 0\n",
    "    for A[q] in range(1, N+1):\n",
    "        ok = True\n",
    "        for i in range(q):\n",
    "            if A[i] == A[q]:\n",
    "                ok = False\n",
    "        if (ok):\n",
    "            ans += Rec(q+1)\n",
    "    return ans\n",
    "\n",
    "print(Rec(0))"
   ]
  },
  {
   "cell_type": "code",
   "execution_count": 36,
   "metadata": {},
   "outputs": [
    {
     "name": "stdout",
     "output_type": "stream",
     "text": [
      "1440\n"
     ]
    }
   ],
   "source": [
    "N = 7\n",
    "A = [0]*N\n",
    "B = [True]*(N+1)\n",
    "\n",
    "def Rec(q):\n",
    "    if q == N:\n",
    "        for i in range(N):\n",
    "            if (A[i] == 2):\n",
    "                p2 = i\n",
    "            if (A[i] == 4):\n",
    "                p4 = i\n",
    "            if (A[i] == 6):\n",
    "                p6 = i\n",
    "        if (abs(p2-p4) % 2 == 1) and (abs(p2-p6) % 2 == 0):\n",
    "            return 1\n",
    "        return 0\n",
    "    ans = 0\n",
    "    for A[q] in range(1, N+1):\n",
    "        if (B[A[q]]):\n",
    "            B[A[q]] = False\n",
    "            ans += Rec(q+1)\n",
    "            B[A[q]] = True\n",
    "    return ans\n",
    "\n",
    "print(Rec(0))"
   ]
  },
  {
   "cell_type": "code",
   "execution_count": 50,
   "metadata": {},
   "outputs": [
    {
     "name": "stdout",
     "output_type": "stream",
     "text": [
      "[1, 2, 3, 4, 5, 7, 6]\n",
      "[1, 2, 5, 6, 3, 4, 7]\n",
      "[1, 2, 5, 4, 7, 3, 6]\n"
     ]
    }
   ],
   "source": [
    "def Next(A):\n",
    "    max_avail = 0\n",
    "    for i in range(len(A)-2, -1, -1):\n",
    "        if (A[i] < A[i+1]):\n",
    "            for j in range(len(A)-1, -1, -1):\n",
    "                if (A[j] > A[i]):\n",
    "                    A[i], A[j] = A[j], A[i]\n",
    "                    break\n",
    "            for j in range(i+1, (len(A)+(i+1))//2):\n",
    "                A[j], A[len(A)-1+i+1-j] = A[len(A)-1+i+1-j], A[j]\n",
    "            return A\n",
    "    return A\n",
    "\n",
    "print(Next([1, 2, 3, 4, 5, 6, 7]))\n",
    "print(Next([1, 2, 5, 4, 7, 6, 3]))\n",
    "print(Next([1, 2, 5, 4, 6, 7, 3]))"
   ]
  },
  {
   "cell_type": "code",
   "execution_count": 51,
   "metadata": {},
   "outputs": [
    {
     "name": "stdout",
     "output_type": "stream",
     "text": [
      "[1, 2, 3, 4, 5, 7, 6]\n",
      "[1, 2, 5, 6, 3, 4, 7]\n",
      "[1, 2, 5, 4, 7, 3, 6]\n"
     ]
    }
   ],
   "source": [
    "def Next(A):\n",
    "    max_avail = 0\n",
    "    for i in range(len(A)-2, -1, -1):\n",
    "        if (A[i] < A[i+1]):\n",
    "            for j in range(len(A)-1, -1, -1):\n",
    "                if (A[j] > A[i]):\n",
    "                    A[i], A[j] = A[j], A[i]\n",
    "                    break\n",
    "            j = i+1\n",
    "            k = N-1\n",
    "            while (j < k):\n",
    "                A[j], A[k] = A[k], A[j]\n",
    "                j += 1\n",
    "                k -= 1\n",
    "            return A\n",
    "\n",
    "#A = [i for i in range(1, 8)]\n",
    "\n",
    "print(Next([1, 2, 3, 4, 5, 6, 7]))\n",
    "print(Next([1, 2, 5, 4, 7, 6, 3]))\n",
    "print(Next([1, 2, 5, 4, 6, 7, 3]))"
   ]
  },
  {
   "cell_type": "code",
   "execution_count": 65,
   "metadata": {},
   "outputs": [
    {
     "name": "stdout",
     "output_type": "stream",
     "text": [
      "[1, 2, 3, 4, 5]\n",
      "[1, 2, 3, 5, 4]\n",
      "[1, 2, 4, 3, 5]\n",
      "[1, 2, 4, 5, 3]\n",
      "[1, 2, 5, 3, 4]\n",
      "[1, 2, 5, 4, 3]\n",
      "[1, 3, 2, 4, 5]\n",
      "[1, 3, 2, 5, 4]\n",
      "[1, 3, 4, 2, 5]\n",
      "[1, 3, 4, 5, 2]\n",
      "[1, 3, 5, 2, 4]\n",
      "[1, 3, 5, 4, 2]\n",
      "[1, 4, 2, 3, 5]\n",
      "[1, 4, 2, 5, 3]\n",
      "[1, 4, 3, 2, 5]\n",
      "[1, 4, 3, 5, 2]\n",
      "[1, 4, 5, 2, 3]\n",
      "[1, 4, 5, 3, 2]\n",
      "[1, 5, 2, 3, 4]\n",
      "[1, 5, 2, 4, 3]\n",
      "[1, 5, 3, 2, 4]\n",
      "[1, 5, 3, 4, 2]\n",
      "[1, 5, 4, 2, 3]\n",
      "[1, 5, 4, 3, 2]\n",
      "[2, 1, 3, 4, 5]\n",
      "[2, 1, 3, 5, 4]\n",
      "[2, 1, 4, 3, 5]\n",
      "[2, 1, 4, 5, 3]\n",
      "[2, 1, 5, 3, 4]\n",
      "[2, 1, 5, 4, 3]\n",
      "[2, 3, 1, 4, 5]\n",
      "[2, 3, 1, 5, 4]\n",
      "[2, 3, 4, 1, 5]\n",
      "[2, 3, 4, 5, 1]\n",
      "[2, 3, 5, 1, 4]\n",
      "[2, 3, 5, 4, 1]\n",
      "[2, 4, 1, 3, 5]\n",
      "[2, 4, 1, 5, 3]\n",
      "[2, 4, 3, 1, 5]\n",
      "[2, 4, 3, 5, 1]\n",
      "[2, 4, 5, 1, 3]\n",
      "[2, 4, 5, 3, 1]\n",
      "[2, 5, 1, 3, 4]\n",
      "[2, 5, 1, 4, 3]\n",
      "[2, 5, 3, 1, 4]\n",
      "[2, 5, 3, 4, 1]\n",
      "[2, 5, 4, 1, 3]\n",
      "[2, 5, 4, 3, 1]\n",
      "[3, 1, 2, 4, 5]\n",
      "[3, 1, 2, 5, 4]\n",
      "[3, 1, 4, 2, 5]\n",
      "[3, 1, 4, 5, 2]\n",
      "[3, 1, 5, 2, 4]\n",
      "[3, 1, 5, 4, 2]\n",
      "[3, 2, 1, 4, 5]\n",
      "[3, 2, 1, 5, 4]\n",
      "[3, 2, 4, 1, 5]\n",
      "[3, 2, 4, 5, 1]\n",
      "[3, 2, 5, 1, 4]\n",
      "[3, 2, 5, 4, 1]\n",
      "[3, 4, 1, 2, 5]\n",
      "[3, 4, 1, 5, 2]\n",
      "[3, 4, 2, 1, 5]\n",
      "[3, 4, 2, 5, 1]\n",
      "[3, 4, 5, 1, 2]\n",
      "[3, 4, 5, 2, 1]\n",
      "[3, 5, 1, 2, 4]\n",
      "[3, 5, 1, 4, 2]\n",
      "[3, 5, 2, 1, 4]\n",
      "[3, 5, 2, 4, 1]\n",
      "[3, 5, 4, 1, 2]\n",
      "[3, 5, 4, 2, 1]\n",
      "[4, 1, 2, 3, 5]\n",
      "[4, 1, 2, 5, 3]\n",
      "[4, 1, 3, 2, 5]\n",
      "[4, 1, 3, 5, 2]\n",
      "[4, 1, 5, 2, 3]\n",
      "[4, 1, 5, 3, 2]\n",
      "[4, 2, 1, 3, 5]\n",
      "[4, 2, 1, 5, 3]\n",
      "[4, 2, 3, 1, 5]\n",
      "[4, 2, 3, 5, 1]\n",
      "[4, 2, 5, 1, 3]\n",
      "[4, 2, 5, 3, 1]\n",
      "[4, 3, 1, 2, 5]\n",
      "[4, 3, 1, 5, 2]\n",
      "[4, 3, 2, 1, 5]\n",
      "[4, 3, 2, 5, 1]\n",
      "[4, 3, 5, 1, 2]\n",
      "[4, 3, 5, 2, 1]\n",
      "[4, 5, 1, 2, 3]\n",
      "[4, 5, 1, 3, 2]\n",
      "[4, 5, 2, 1, 3]\n",
      "[4, 5, 2, 3, 1]\n",
      "[4, 5, 3, 1, 2]\n",
      "[4, 5, 3, 2, 1]\n",
      "[5, 1, 2, 3, 4]\n",
      "[5, 1, 2, 4, 3]\n",
      "[5, 1, 3, 2, 4]\n",
      "[5, 1, 3, 4, 2]\n",
      "[5, 1, 4, 2, 3]\n",
      "[5, 1, 4, 3, 2]\n",
      "[5, 2, 1, 3, 4]\n",
      "[5, 2, 1, 4, 3]\n",
      "[5, 2, 3, 1, 4]\n",
      "[5, 2, 3, 4, 1]\n",
      "[5, 2, 4, 1, 3]\n",
      "[5, 2, 4, 3, 1]\n",
      "[5, 3, 1, 2, 4]\n",
      "[5, 3, 1, 4, 2]\n",
      "[5, 3, 2, 1, 4]\n",
      "[5, 3, 2, 4, 1]\n",
      "[5, 3, 4, 1, 2]\n",
      "[5, 3, 4, 2, 1]\n",
      "[5, 4, 1, 2, 3]\n",
      "[5, 4, 1, 3, 2]\n",
      "[5, 4, 2, 1, 3]\n",
      "[5, 4, 2, 3, 1]\n",
      "[5, 4, 3, 1, 2]\n",
      "[5, 4, 3, 2, 1]\n"
     ]
    }
   ],
   "source": [
    "def Next(A):\n",
    "    for i in range(len(A)-2, -1, -1):\n",
    "        if (A[i] < A[i+1]):\n",
    "            for j in range(len(A)-1, -1, -1):\n",
    "                if (A[j] > A[i]):\n",
    "                    A[i], A[j] = A[j], A[i]\n",
    "                    break\n",
    "            j = i+1\n",
    "            k = len(A)-1\n",
    "            while (j < k):\n",
    "                A[j], A[k] = A[k], A[j]\n",
    "                j += 1\n",
    "                k -= 1\n",
    "            return True\n",
    "    return False\n",
    "\n",
    "C = [i for i in range(1, 5)]\n",
    "\n",
    "while (True):\n",
    "    print(C)\n",
    "    if not Next(C):\n",
    "        break"
   ]
  },
  {
   "cell_type": "code",
   "execution_count": 66,
   "metadata": {},
   "outputs": [
    {
     "name": "stdout",
     "output_type": "stream",
     "text": [
      "1440\n"
     ]
    }
   ],
   "source": [
    "def Next(A):\n",
    "    for i in range(len(A)-2, -1, -1):\n",
    "        if (A[i] < A[i+1]):\n",
    "            for j in range(len(A)-1, -1, -1):\n",
    "                if (A[j] > A[i]):\n",
    "                    A[i], A[j] = A[j], A[i]\n",
    "                    break\n",
    "            j = i+1\n",
    "            k = len(A)-1\n",
    "            while (j < k):\n",
    "                A[j], A[k] = A[k], A[j]\n",
    "                j += 1\n",
    "                k -= 1\n",
    "            return True\n",
    "    return False\n",
    "\n",
    "C = [i for i in range(1, 8)]\n",
    "\n",
    "ans = 0\n",
    "while (True):\n",
    "    for i in range(len(C)):\n",
    "        if (C[i] == 2):\n",
    "            p2 = i\n",
    "        if (C[i] == 4):\n",
    "            p4 = i\n",
    "        if (C[i] == 6):\n",
    "            p6 = i\n",
    "    if (abs(p2-p4) % 2 == 1) and (abs(p2-p6) % 2 == 0):\n",
    "        ans += 1\n",
    "    if not Next(C):\n",
    "        break\n",
    "print(ans)"
   ]
  },
  {
   "cell_type": "code",
   "execution_count": 1,
   "metadata": {},
   "outputs": [
    {
     "name": "stdout",
     "output_type": "stream",
     "text": [
      "[1, 2, 3, 4]\n",
      "[1, 2, 4, 3]\n",
      "[1, 3, 2, 4]\n",
      "[1, 3, 4, 2]\n",
      "[1, 4, 2, 3]\n",
      "[1, 4, 3, 2]\n",
      "[2, 1, 3, 4]\n",
      "[2, 1, 4, 3]\n",
      "[2, 3, 1, 4]\n",
      "[2, 3, 4, 1]\n",
      "[2, 4, 1, 3]\n",
      "[2, 4, 3, 1]\n",
      "[3, 1, 2, 4]\n",
      "[3, 1, 4, 2]\n",
      "[3, 2, 1, 4]\n",
      "[3, 2, 4, 1]\n",
      "[3, 4, 1, 2]\n",
      "[3, 4, 2, 1]\n",
      "[4, 1, 2, 3]\n",
      "[4, 1, 3, 2]\n",
      "[4, 2, 1, 3]\n",
      "[4, 2, 3, 1]\n",
      "[4, 3, 1, 2]\n",
      "[4, 3, 2, 1]\n"
     ]
    }
   ],
   "source": [
    "def Next(A):\n",
    "    for i in range(len(A)-2, -1, -1):\n",
    "        if (A[i] < A[i+1]):\n",
    "            for j in range(len(A)-1, -1, -1):\n",
    "                if (A[j] > A[i]):\n",
    "                    A[i], A[j] = A[j], A[i]\n",
    "                    break\n",
    "            j = i+1\n",
    "            k = len(A)-1\n",
    "            while (j < k):\n",
    "                A[j], A[k] = A[k], A[j]\n",
    "                j += 1\n",
    "                k -= 1\n",
    "            return True\n",
    "    return False\n",
    "\n",
    "#C = [i//3 for i in range(1, 6)]\n",
    "#C = [i//2 for i in range(1, 6)]\n",
    "C = [i for i in range(1, 5)]\n",
    "\n",
    "while (True):\n",
    "    print(C)\n",
    "    if not Next(C):\n",
    "        break"
   ]
  },
  {
   "cell_type": "code",
   "execution_count": null,
   "metadata": {},
   "outputs": [],
   "source": []
  }
 ],
 "metadata": {
  "kernelspec": {
   "display_name": "PyPy3",
   "language": "python",
   "name": "pypy3"
  },
  "language_info": {
   "codemirror_mode": {
    "name": "ipython",
    "version": 3
   },
   "file_extension": ".py",
   "mimetype": "text/x-python",
   "name": "python",
   "nbconvert_exporter": "python",
   "pygments_lexer": "ipython3",
   "version": "3.7.10"
  }
 },
 "nbformat": 4,
 "nbformat_minor": 4
}
